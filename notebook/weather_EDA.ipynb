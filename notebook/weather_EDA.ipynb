{
 "cells": [
  {
   "cell_type": "markdown",
   "id": "dc57eb17",
   "metadata": {},
   "source": [
    "# Chargement des données"
   ]
  },
  {
   "cell_type": "code",
   "execution_count": null,
   "id": "65571e38",
   "metadata": {},
   "outputs": [],
   "source": [
    "import pandas as pd\n",
    "import psycopg2\n",
    "import seaborn as sns\n",
    "import matplotlib.pyplot as plt\n",
    "\n",
    "conn = psycopg2.connect(\n",
    "    dbname=\"meteo_db\",\n",
    "    user=\"airflow\",\n",
    "    password=\"tsanta\",\n",
    "    host=\"localhost\",\n",
    "    port=\"5432\"\n",
    ")\n",
    "\n",
    "df = pd.read_sql(\"SELECT * FROM city_weather_summary JOIN dim_city USING(city_id)\", conn)\n",
    "conn.close()\n",
    "df.head()\n"
   ]
  },
  {
   "cell_type": "markdown",
   "id": "f5951362",
   "metadata": {},
   "source": [
    "# Vue d’ensemble des données"
   ]
  },
  {
   "cell_type": "code",
   "execution_count": null,
   "id": "06a64ac8",
   "metadata": {},
   "outputs": [],
   "source": [
    "df.info()\n",
    "df.describe()\n",
    "df.isna().sum()"
   ]
  },
  {
   "cell_type": "markdown",
   "id": "370cc8a3",
   "metadata": {},
   "source": [
    "# analyse univariée (variables seules)"
   ]
  },
  {
   "cell_type": "code",
   "execution_count": null,
   "id": "466bde0a",
   "metadata": {},
   "outputs": [],
   "source": [
    "\n",
    "sns.histplot(df['avg_temp'], bins=20)\n",
    "plt.title(\"Distribution des températures moyennes\")\n",
    "\n",
    "sns.boxplot(x='season', y='avg_score', data=df)\n",
    "plt.title(\"Score météo par saison\")\n"
   ]
  },
  {
   "cell_type": "markdown",
   "id": "fa8d4d66",
   "metadata": {},
   "source": [
    "# analyse bivariée ( entres deux colonnes)"
   ]
  },
  {
   "cell_type": "code",
   "execution_count": null,
   "id": "0855af3f",
   "metadata": {},
   "outputs": [],
   "source": [
    "sns.scatterplot(data=df, x='avg_temp', y='avg_score', hue='season')\n",
    "sns.heatmap(df[['avg_temp','avg_precipitation','avg_humidity','avg_score']].corr(), annot=True)\n"
   ]
  },
  {
   "cell_type": "markdown",
   "id": "4a4c72e4",
   "metadata": {},
   "source": [
    "# classement des villes"
   ]
  },
  {
   "cell_type": "code",
   "execution_count": null,
   "id": "9cf8bd32",
   "metadata": {},
   "outputs": [],
   "source": [
    "top = df[df['season'] == 'Summer'].sort_values(by='avg_score', ascending=False).head(10)\n",
    "print(top[['city_name', 'avg_score', 'season']])\n"
   ]
  },
  {
   "cell_type": "markdown",
   "id": "755df034",
   "metadata": {},
   "source": [
    "# visualisation mensuelle"
   ]
  },
  {
   "cell_type": "markdown",
   "id": "661cab89",
   "metadata": {},
   "source": [
    "plt.figure(figsize=(10,6))\n",
    "sns.lineplot(data=df[df['city_name']=='Paris'], x='month', y='avg_score', hue='year')\n",
    "plt.title(\"Score météo de Paris par mois\")\n"
   ]
  }
 ],
 "metadata": {
  "language_info": {
   "name": "python"
  }
 },
 "nbformat": 4,
 "nbformat_minor": 5
}
